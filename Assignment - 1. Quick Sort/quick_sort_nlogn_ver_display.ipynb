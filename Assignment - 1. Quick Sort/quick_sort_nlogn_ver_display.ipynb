{
 "cells": [
  {
   "cell_type": "code",
   "execution_count": 1,
   "metadata": {},
   "outputs": [],
   "source": [
    "# coding: utf-8\n",
    "\n",
    "'''\n",
    "author: Jet Vayne\n",
    "'''\n",
    "\n",
    "\n",
    "def get_partition(sequence, left_index, right_index, pivot):\n",
    "    while left_index <= right_index:\n",
    "        '''\n",
    "        左邊理論上要比 pivot 小， 所以 while 設 array[left] < pivot\n",
    "        依序向右邊增加 index 和 pivot 做比較\n",
    "        '''\n",
    "        while sequence[left_index] < pivot:\n",
    "            left_index += 1\n",
    "\n",
    "        '''\n",
    "        右邊理論上要比 pivot 大， 所以 while 設 array[right] > pivot\n",
    "        依序向左邊遞減 index 和 pivot 做比較\n",
    "        '''\n",
    "        while sequence[right_index] > pivot:\n",
    "            right_index -= 1\n",
    "\n",
    "        # 做換位動作\n",
    "        if left_index <= right_index:\n",
    "            temp = sequence[left_index]\n",
    "            sequence[left_index] = sequence[right_index]\n",
    "            sequence[right_index] = temp\n",
    "            left_index += 1\n",
    "            right_index -= 1\n",
    "\n",
    "\n",
    "    return left_index\n",
    "\n",
    "\n",
    "def sorter(sequence, left_index, right_index):\n",
    "    if left_index >= right_index:\n",
    "        return\n",
    "\n",
    "    # 隨機取 pivot\n",
    "    median_index = (left_index + right_index) // 2  # // 兩槓去小數\n",
    "    pivot = sequence[median_index]\n",
    "\n",
    "    # 找到截斷點，之後要分左右段\n",
    "    partition = get_partition(sequence, left_index, right_index, pivot)\n",
    "    # print(partition, sequence[partition], pivot)\n",
    "\n",
    "    # 左段\n",
    "    sorter(sequence, left_index, partition - 1)\n",
    "\n",
    "    # 右段\n",
    "    sorter(sequence, partition, right_index)\n",
    "\n",
    "\n",
    "#   可以自由設定頭尾 index 參數, 若只 input 集合，預設為從頭到尾\n",
    "def quick_sort(sequence: list, start_index=None, end_index=None):\n",
    "    # default\n",
    "    if start_index is None and end_index is None:\n",
    "        start_index = 0\n",
    "        end_index = len(sequence) - 1\n",
    "    # 只設定頭\n",
    "    elif start_index and end_index is None:\n",
    "        end_index = len(sequence) - 1\n",
    "    # 只設定尾\n",
    "    elif end_index and start_index is None:\n",
    "        start_index = 0\n",
    "\n",
    "    sorter(sequence, start_index, end_index)"
   ]
  },
  {
   "cell_type": "code",
   "execution_count": 2,
   "metadata": {},
   "outputs": [],
   "source": [
    "input_list = [3, 8, 9, 11, 25, 2, 1, 11, -2, 10, -2, 5, 6, -8]"
   ]
  },
  {
   "cell_type": "code",
   "execution_count": 3,
   "metadata": {},
   "outputs": [
    {
     "data": {
      "text/plain": [
       "[3, 8, 9, 11, 25, 2, 1, 11, -2, 10, -2, 5, 6, -8]"
      ]
     },
     "execution_count": 3,
     "metadata": {},
     "output_type": "execute_result"
    }
   ],
   "source": [
    "input_list"
   ]
  },
  {
   "cell_type": "code",
   "execution_count": 4,
   "metadata": {},
   "outputs": [],
   "source": [
    "quick_sort(input_list)"
   ]
  },
  {
   "cell_type": "code",
   "execution_count": 5,
   "metadata": {},
   "outputs": [
    {
     "data": {
      "text/plain": [
       "[-8, -2, -2, 1, 2, 3, 5, 6, 8, 9, 10, 11, 11, 25]"
      ]
     },
     "execution_count": 5,
     "metadata": {},
     "output_type": "execute_result"
    }
   ],
   "source": [
    "input_list"
   ]
  }
 ],
 "metadata": {
  "kernelspec": {
   "display_name": "Python 3",
   "language": "python",
   "name": "python3"
  },
  "language_info": {
   "codemirror_mode": {
    "name": "ipython",
    "version": 3
   },
   "file_extension": ".py",
   "mimetype": "text/x-python",
   "name": "python",
   "nbconvert_exporter": "python",
   "pygments_lexer": "ipython3",
   "version": "3.7.3"
  }
 },
 "nbformat": 4,
 "nbformat_minor": 2
}
